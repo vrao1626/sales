{
 "cells": [
  {
   "cell_type": "code",
   "execution_count": 1,
   "metadata": {},
   "outputs": [],
   "source": [
    "import numpy as np \n",
    "import pandas as pd \n",
    "import matplotlib.pyplot as plt\n",
    "import seaborn as sns"
   ]
  },
  {
   "cell_type": "code",
   "execution_count": 6,
   "metadata": {},
   "outputs": [
    {
     "name": "stdout",
     "output_type": "stream",
     "text": [
      "(1000, 17)\n"
     ]
    }
   ],
   "source": [
    "data=pd.read_csv('market.csv')\n",
    "print(data.shape)\n"
   ]
  },
  {
   "cell_type": "code",
   "execution_count": 7,
   "metadata": {},
   "outputs": [
    {
     "name": "stdout",
     "output_type": "stream",
     "text": [
      "    Invoice ID Branch       City Customer type  Gender  \\\n",
      "0  750-67-8428      A     Yangon        Member  Female   \n",
      "1  226-31-3081      C  Naypyitaw        Normal  Female   \n",
      "2  631-41-3108      A     Yangon        Normal    Male   \n",
      "3  123-19-1176      A     Yangon        Member    Male   \n",
      "4  373-73-7910      A     Yangon        Normal    Male   \n",
      "\n",
      "             Product line  Unit price  Quantity   Tax 5%     Total  \\\n",
      "0       Health and beauty       74.69         7  26.1415  548.9715   \n",
      "1  Electronic accessories       15.28         5   3.8200   80.2200   \n",
      "2      Home and lifestyle       46.33         7  16.2155  340.5255   \n",
      "3       Health and beauty       58.22         8  23.2880  489.0480   \n",
      "4       Sports and travel       86.31         7  30.2085  634.3785   \n",
      "\n",
      "         Date   Time      Payment    cogs  gross margin percentage  \\\n",
      "0  01-05-2019  13:08      Ewallet  522.83                 4.761905   \n",
      "1  03-08-2019  10:29         Cash   76.40                 4.761905   \n",
      "2  03-03-2019  13:23  Credit card  324.31                 4.761905   \n",
      "3   1/27/2019  20:33      Ewallet  465.76                 4.761905   \n",
      "4  02-08-2019  10:37      Ewallet  604.17                 4.761905   \n",
      "\n",
      "   gross income  Rating  \n",
      "0       26.1415     9.1  \n",
      "1        3.8200     9.6  \n",
      "2       16.2155     7.4  \n",
      "3       23.2880     8.4  \n",
      "4       30.2085     5.3  \n"
     ]
    }
   ],
   "source": [
    "data=pd.read_csv('market.csv')\n",
    "print(data.head())"
   ]
  },
  {
   "cell_type": "code",
   "execution_count": null,
   "metadata": {},
   "outputs": [],
   "source": []
  }
 ],
 "metadata": {
  "kernelspec": {
   "display_name": "Python 3",
   "language": "python",
   "name": "python3"
  },
  "language_info": {
   "codemirror_mode": {
    "name": "ipython",
    "version": 3
   },
   "file_extension": ".py",
   "mimetype": "text/x-python",
   "name": "python",
   "nbconvert_exporter": "python",
   "pygments_lexer": "ipython3",
   "version": "3.8.3"
  }
 },
 "nbformat": 4,
 "nbformat_minor": 4
}
